{
 "cells": [
  {
   "cell_type": "code",
   "execution_count": null,
   "id": "f1f65da2-cee3-4cd4-93c5-19c4d9524a9b",
   "metadata": {},
   "outputs": [],
   "source": []
  },
  {
   "cell_type": "code",
   "execution_count": 1,
   "id": "7db5dc73-cf77-4b34-9661-6e2fe2205628",
   "metadata": {},
   "outputs": [],
   "source": [
    "import csv"
   ]
  },
  {
   "cell_type": "code",
   "execution_count": 96,
   "id": "ee7a09bc-786f-4364-8d06-6c316d01efca",
   "metadata": {},
   "outputs": [
    {
     "name": "stdout",
     "output_type": "stream",
     "text": [
      "['patient_id', 'sex', 'age', 'country', 'province', 'city', 'infection_case', 'infected_by', 'contact_number', 'symptom_onset_date', 'confirmed_date', 'released_date', 'deceased_date', 'state']\n",
      "['1000000001', 'male', '50s', 'Korea', 'Seoul', 'Gangseo-gu', 'overseas inflow', '', '75', '2020-01-22', '2020-01-23', '2020-02-05', '', 'released']\n"
     ]
    }
   ],
   "source": [
    "filename = \"data/PatientInfo.csv\"\n",
    "\n",
    "result = list()\n",
    "data2 = list()\n",
    "with open(filename, 'r') as f:\n",
    "    data = csv.reader(f)\n",
    "    for idx, line in enumerate(data):\n",
    "        if idx <= 1:\n",
    "            print(line)\n",
    "        result.append([ line[11], line[0], line[1], line[2] ])\n",
    "        data2.append([ line[4], line[5], line[0], line[1], line[2] ])\n",
    "    f.close()"
   ]
  },
  {
   "cell_type": "code",
   "execution_count": 93,
   "id": "72376972-2b49-4f5a-b3cd-19b814eb132c",
   "metadata": {},
   "outputs": [
    {
     "data": {
      "text/plain": [
       "[['2020-02-05', '1000000001', 'male', '50s'],\n",
       " ['2020-03-02', '1000000002', 'male', '30s'],\n",
       " ['2020-02-19', '1000000003', 'male', '50s'],\n",
       " ['2020-02-15', '1000000004', 'male', '20s'],\n",
       " ['2020-02-24', '1000000005', 'female', '20s']]"
      ]
     },
     "execution_count": 93,
     "metadata": {},
     "output_type": "execute_result"
    }
   ],
   "source": [
    "result[:5]"
   ]
  },
  {
   "cell_type": "code",
   "execution_count": 16,
   "id": "207300fc-6d15-44c6-96a6-f7b035acde25",
   "metadata": {},
   "outputs": [],
   "source": [
    "result[0][0] = 'date'"
   ]
  },
  {
   "cell_type": "code",
   "execution_count": 18,
   "id": "b7612d4a-e267-4571-95c5-a0fa36ebd393",
   "metadata": {},
   "outputs": [],
   "source": [
    "result = [ line for line in result if line[0] != '' ]"
   ]
  },
  {
   "cell_type": "code",
   "execution_count": 29,
   "id": "d05499ba-d99f-4fed-aa57-bed18fff4026",
   "metadata": {},
   "outputs": [],
   "source": [
    "result[1:] = sorted(result[1:], key=lambda x : x[0])"
   ]
  },
  {
   "cell_type": "code",
   "execution_count": 31,
   "id": "75ca0217-ce49-471c-a7f1-b96ae704d1fc",
   "metadata": {},
   "outputs": [
    {
     "data": {
      "text/plain": [
       "[['date', 'patient_id', 'sex', 'age'],\n",
       " ['2020-02-05', '1000000001', 'male', '50s'],\n",
       " ['2020-02-06', '1400000001', 'female', '30s'],\n",
       " ['2020-02-09', '2000000002', 'male', '50s'],\n",
       " ['2020-02-10', '1000000007', 'male', '20s'],\n",
       " ['2020-02-12', '2000000001', 'male', '50s'],\n",
       " ['2020-02-12', '2000000006', 'male', '30s'],\n",
       " ['2020-02-12', '5000000001', 'female', '60s'],\n",
       " ['2020-02-15', '1000000004', 'male', '20s'],\n",
       " ['2020-02-15', '5100000001', 'male', '40s'],\n",
       " ['2020-02-17', '2000000011', 'female', '30s'],\n",
       " ['2020-02-18', '2000000003', 'male', '40s'],\n",
       " ['2020-02-18', '2000000004', 'female', '40s'],\n",
       " ['2020-02-19', '1000000003', 'male', '50s'],\n",
       " ['2020-02-19', '1000000006', 'female', '50s'],\n",
       " ['2020-02-20', '1300000001', 'female', '40s'],\n",
       " ['2020-02-20', '1300000002', 'female', '20s'],\n",
       " ['2020-02-21', '1000000009', 'male', '30s'],\n",
       " ['2020-02-24', '1000000005', 'female', '20s'],\n",
       " ['2020-02-24', '1000000008', 'male', '20s'],\n",
       " ['2020-02-24', '2000000005', 'male', '40s'],\n",
       " ['2020-02-24', '2000000007', 'female', '40s'],\n",
       " ['2020-02-26', '1200000051', 'female', '60s'],\n",
       " ['2020-02-26', '6015000001', 'male', '40s'],\n",
       " ['2020-02-27', '1000000012', 'male', '20s'],\n",
       " ['2020-02-27', '1200000065', 'female', '50s'],\n",
       " ['2020-02-27', '2000000045', 'male', '30s'],\n",
       " ['2020-02-28', '1200000063', 'female', '50s'],\n",
       " ['2020-02-29', '1000000010', 'female', '60s'],\n",
       " ['2020-02-29', '1000000011', 'female', '50s'],\n",
       " ['2020-03-01', '1000000017', 'male', '70s'],\n",
       " ['2020-03-02', '1000000002', 'male', '30s'],\n",
       " ['2020-03-02', '1200000050', 'male', '70s'],\n",
       " ['2020-03-02', '1500000004', 'female', '40s'],\n",
       " ['2020-03-02', '2000000092', 'male', '20s'],\n",
       " ['2020-03-03', '1000000046', 'female', '20s'],\n",
       " ['2020-03-03', '1000000051', 'female', '20s'],\n",
       " ['2020-03-03', '1000000052', 'male', '30s'],\n",
       " ['2020-03-03', '1000000055', 'female', '20s'],\n",
       " ['2020-03-03', '1000000063', 'male', '30s']]"
      ]
     },
     "execution_count": 31,
     "metadata": {},
     "output_type": "execute_result"
    }
   ],
   "source": [
    "result[:40]"
   ]
  },
  {
   "cell_type": "code",
   "execution_count": 32,
   "id": "3a2f6848-1017-4759-89d3-25b405970774",
   "metadata": {},
   "outputs": [
    {
     "name": "stdout",
     "output_type": "stream",
     "text": [
      "1587\n"
     ]
    }
   ],
   "source": [
    "print(len(result) - 1)"
   ]
  },
  {
   "cell_type": "code",
   "execution_count": 34,
   "id": "6399f349-daba-4f0a-9b2e-06caf508a53d",
   "metadata": {},
   "outputs": [
    {
     "data": {
      "text/plain": [
       "['2020-06-28', '4100000146', 'female', '60s']"
      ]
     },
     "execution_count": 34,
     "metadata": {},
     "output_type": "execute_result"
    }
   ],
   "source": [
    "result[-1] # 2020-02-05 ~ 2020-06-28"
   ]
  },
  {
   "cell_type": "code",
   "execution_count": 37,
   "id": "3722ebfe-23f0-4042-91a6-600a6e5c56a6",
   "metadata": {},
   "outputs": [
    {
     "name": "stdout",
     "output_type": "stream",
     "text": [
      "\u001b[33mDEPRECATION: Configuring installation scheme with distutils config files is deprecated and will no longer work in the near future. If you are using a Homebrew or Linuxbrew Python, please see discussion at https://github.com/Homebrew/homebrew-core/issues/76621\u001b[0m\n",
      "Collecting pandas\n",
      "  Downloading pandas-1.3.3-cp39-cp39-macosx_10_9_x86_64.whl (11.6 MB)\n",
      "\u001b[K     |████████████████████████████████| 11.6 MB 10.6 MB/s eta 0:00:01\n",
      "\u001b[?25hRequirement already satisfied: pytz>=2017.3 in /usr/local/lib/python3.9/site-packages (from pandas) (2021.1)\n",
      "Requirement already satisfied: python-dateutil>=2.7.3 in /usr/local/lib/python3.9/site-packages (from pandas) (2.8.2)\n",
      "Requirement already satisfied: numpy>=1.17.3 in /usr/local/lib/python3.9/site-packages (from pandas) (1.21.2)\n",
      "Requirement already satisfied: six>=1.5 in /usr/local/lib/python3.9/site-packages (from python-dateutil>=2.7.3->pandas) (1.16.0)\n",
      "Installing collected packages: pandas\n",
      "\u001b[33mDEPRECATION: Configuring installation scheme with distutils config files is deprecated and will no longer work in the near future. If you are using a Homebrew or Linuxbrew Python, please see discussion at https://github.com/Homebrew/homebrew-core/issues/76621\u001b[0m\n",
      "Successfully installed pandas-1.3.3\n"
     ]
    }
   ],
   "source": [
    "!pip3 install pandas"
   ]
  },
  {
   "cell_type": "code",
   "execution_count": 126,
   "id": "3de11491-7d2d-43e2-8c7c-306d39d2083f",
   "metadata": {},
   "outputs": [],
   "source": [
    "# save using pandas\n",
    "import pandas as pd\n",
    "\n",
    "def save_to_csv(filename, data):\n",
    "    pd.DataFrame(data = data[1:], columns = data[0]).to_csv(filename, header=True, index=False)"
   ]
  },
  {
   "cell_type": "code",
   "execution_count": 127,
   "id": "473120ca-fc8b-478c-a7bf-ada044e5c2c8",
   "metadata": {},
   "outputs": [],
   "source": [
    "save_to_csv('corona_data.csv', result)"
   ]
  },
  {
   "cell_type": "code",
   "execution_count": 41,
   "id": "04670cba-6a7a-466c-8873-e9bf3446551c",
   "metadata": {},
   "outputs": [],
   "source": [
    "# (date, number of people)\n",
    "\n",
    "daliy_data = [ line[0:2] for line in result ]"
   ]
  },
  {
   "cell_type": "code",
   "execution_count": 43,
   "id": "5cae4e1b-9751-408b-9d9f-bd0a43ea12bf",
   "metadata": {},
   "outputs": [],
   "source": [
    "data_dict = dict()\n",
    "for date, pid in daliy_data[1:]:\n",
    "    data_dict[date] = data_dict.get(date, 0) + 1"
   ]
  },
  {
   "cell_type": "code",
   "execution_count": 112,
   "id": "89f950b5-1dad-4957-bd6f-e6105472c001",
   "metadata": {},
   "outputs": [],
   "source": [
    "def make_dict_to_list(data):\n",
    "    return [ [ a, b ] for a, b in data.items() ]"
   ]
  },
  {
   "cell_type": "code",
   "execution_count": 113,
   "id": "47c1b627-8784-4e25-af42-e1af7156c571",
   "metadata": {},
   "outputs": [],
   "source": [
    "result_data_dict = make_dict_to_list(data_dict)"
   ]
  },
  {
   "cell_type": "code",
   "execution_count": 114,
   "id": "a1f2fd17-a522-4c2d-a90d-80d507c767db",
   "metadata": {},
   "outputs": [
    {
     "data": {
      "text/plain": [
       "[['2020-02-05', 1],\n",
       " ['2020-02-06', 1],\n",
       " ['2020-02-09', 1],\n",
       " ['2020-02-10', 1],\n",
       " ['2020-02-12', 3],\n",
       " ['2020-02-15', 2],\n",
       " ['2020-02-17', 1],\n",
       " ['2020-02-18', 2],\n",
       " ['2020-02-19', 2],\n",
       " ['2020-02-20', 2],\n",
       " ['2020-02-21', 1],\n",
       " ['2020-02-24', 4],\n",
       " ['2020-02-26', 2],\n",
       " ['2020-02-27', 3],\n",
       " ['2020-02-28', 1],\n",
       " ['2020-02-29', 2],\n",
       " ['2020-03-01', 1],\n",
       " ['2020-03-02', 4],\n",
       " ['2020-03-03', 11],\n",
       " ['2020-03-04', 17],\n",
       " ['2020-03-05', 7],\n",
       " ['2020-03-06', 9],\n",
       " ['2020-03-07', 5],\n",
       " ['2020-03-08', 4],\n",
       " ['2020-03-09', 5],\n",
       " ['2020-03-10', 8],\n",
       " ['2020-03-11', 22],\n",
       " ['2020-03-12', 15],\n",
       " ['2020-03-13', 29],\n",
       " ['2020-03-14', 34]]"
      ]
     },
     "execution_count": 114,
     "metadata": {},
     "output_type": "execute_result"
    }
   ],
   "source": [
    "result_data_dict[:30]"
   ]
  },
  {
   "cell_type": "code",
   "execution_count": 51,
   "id": "7651febc-daac-4619-9e99-b5a7ed3c472d",
   "metadata": {},
   "outputs": [],
   "source": [
    "daliy_data[1:] = result_data_dict"
   ]
  },
  {
   "cell_type": "code",
   "execution_count": 52,
   "id": "730f700a-4a10-4e4c-bd4b-bb4867f9cdd8",
   "metadata": {},
   "outputs": [
    {
     "data": {
      "text/plain": [
       "[['date', 'patient_id'],\n",
       " ['2020-02-05', 1],\n",
       " ['2020-02-06', 1],\n",
       " ['2020-02-09', 1],\n",
       " ['2020-02-10', 1],\n",
       " ['2020-02-12', 3],\n",
       " ['2020-02-15', 2],\n",
       " ['2020-02-17', 1],\n",
       " ['2020-02-18', 2],\n",
       " ['2020-02-19', 2],\n",
       " ['2020-02-20', 2],\n",
       " ['2020-02-21', 1],\n",
       " ['2020-02-24', 4],\n",
       " ['2020-02-26', 2],\n",
       " ['2020-02-27', 3],\n",
       " ['2020-02-28', 1],\n",
       " ['2020-02-29', 2],\n",
       " ['2020-03-01', 1],\n",
       " ['2020-03-02', 4],\n",
       " ['2020-03-03', 11]]"
      ]
     },
     "execution_count": 52,
     "metadata": {},
     "output_type": "execute_result"
    }
   ],
   "source": [
    "daliy_data[:20]"
   ]
  },
  {
   "cell_type": "code",
   "execution_count": 53,
   "id": "09381899-a9d9-4fa5-92ce-11c4d8eb8684",
   "metadata": {},
   "outputs": [],
   "source": [
    "daliy_data[0][1] = 'number of people'"
   ]
  },
  {
   "cell_type": "code",
   "execution_count": 54,
   "id": "a4be7628-b992-42aa-b80d-9af7a9ba6493",
   "metadata": {},
   "outputs": [
    {
     "data": {
      "text/plain": [
       "[['date', 'number of people'],\n",
       " ['2020-02-05', 1],\n",
       " ['2020-02-06', 1],\n",
       " ['2020-02-09', 1],\n",
       " ['2020-02-10', 1],\n",
       " ['2020-02-12', 3],\n",
       " ['2020-02-15', 2],\n",
       " ['2020-02-17', 1],\n",
       " ['2020-02-18', 2],\n",
       " ['2020-02-19', 2],\n",
       " ['2020-02-20', 2],\n",
       " ['2020-02-21', 1],\n",
       " ['2020-02-24', 4],\n",
       " ['2020-02-26', 2],\n",
       " ['2020-02-27', 3],\n",
       " ['2020-02-28', 1],\n",
       " ['2020-02-29', 2],\n",
       " ['2020-03-01', 1],\n",
       " ['2020-03-02', 4],\n",
       " ['2020-03-03', 11]]"
      ]
     },
     "execution_count": 54,
     "metadata": {},
     "output_type": "execute_result"
    }
   ],
   "source": [
    "daliy_data[:20]"
   ]
  },
  {
   "cell_type": "code",
   "execution_count": 55,
   "id": "6db309c8-ad4d-438a-a0d8-c6ee1845c511",
   "metadata": {},
   "outputs": [],
   "source": [
    "pd.DataFrame(data = daliy_data[1:], columns = daliy_data[0]).to_csv('corona_daliy_data.csv', header=True, index=False)"
   ]
  },
  {
   "cell_type": "code",
   "execution_count": 100,
   "id": "5a79340d-c5a9-4dd3-8fd3-bb37c5f9f739",
   "metadata": {},
   "outputs": [
    {
     "data": {
      "text/plain": [
       "[['province', 'city', 'patient_id', 'sex', 'age'],\n",
       " ['Busan', 'Dongnae-gu', '1100000001', 'male', '10s'],\n",
       " ['Busan', 'Haeundae-gu', '1100000002', 'female', '50s'],\n",
       " ['Busan', 'Haeundae-gu', '1100000003', 'female', '20s'],\n",
       " ['Busan', 'Haeundae-gu', '1100000004', 'female', '20s']]"
      ]
     },
     "execution_count": 100,
     "metadata": {},
     "output_type": "execute_result"
    }
   ],
   "source": [
    "data2[:5]"
   ]
  },
  {
   "cell_type": "code",
   "execution_count": 101,
   "id": "1e0fdbf7-e6ef-40d3-b6a0-c45013aa8ea4",
   "metadata": {},
   "outputs": [
    {
     "name": "stdout",
     "output_type": "stream",
     "text": [
      "['Busan', 'Dongnae-gu', '1100000001', 'male', '10s'] ['Busan', 'Haeundae-gu', '1100000002', 'female', '50s'] ['Busan', 'Haeundae-gu', '1100000003', 'female', '20s'] ['Busan', 'Haeundae-gu', '1100000004', 'female', '20s'] ['Busan', 'Haeundae-gu', '1100000005', 'female', '20s'] ['Busan', 'Yeonje-gu', '1100000006', 'female', '80s'] ['Busan', '', '1100000007', 'male', '20s'] ['Busan', 'Dongnae-gu', '1100000008', 'male', '20s'] ['Busan', 'Dongnae-gu', '1100000009', 'male', '20s'] ['Busan', 'Dongnae-gu', '1100000010', 'male', '40s'] ['Busan', 'Buk-gu', '1100000011', 'female', '20s'] ['Busan', 'Nam-gu', '1100000012', 'female', '50s'] ['Busan', 'Seo-gu', '1100000013', 'male', '20s'] ['Busan', 'Dongnae-gu', '1100000014', 'male', '30s'] ['Busan', 'Dongnae-gu', '1100000015', 'male', '10s'] ['Busan', 'Geumjeong-gu', '1100000016', 'male', '30s'] ['Busan', 'Nam-gu', '1100000017', 'male', '40s'] ['Busan', 'Saha-gu', '1100000018', 'male', '20s'] ['Busan', 'Seo-gu', '1100000019', 'female', '30s'] ['Busan', 'Seo-gu', '1100000020', 'female', '50s']\n"
     ]
    }
   ],
   "source": [
    "print(*[ line for line in data2[1:] if line[0] != \"Seoul\" ][:20])"
   ]
  },
  {
   "cell_type": "code",
   "execution_count": 102,
   "id": "d0737933-0078-4856-bdaf-ca899d9cf9a5",
   "metadata": {},
   "outputs": [
    {
     "name": "stdout",
     "output_type": "stream",
     "text": [
      "5166\n",
      "5166\n"
     ]
    }
   ],
   "source": [
    "# preprocessing data\n",
    "\n",
    "print(len(data2))\n",
    "data2 = [ line for line in data2 if line[0] != '' ]\n",
    "print(len(data2))"
   ]
  },
  {
   "cell_type": "code",
   "execution_count": 103,
   "id": "cd8d075a-bdd8-40d3-99ab-6af678512d8c",
   "metadata": {},
   "outputs": [],
   "source": [
    "data2[1:] = sorted(data2[1:], key=lambda x : x[0])"
   ]
  },
  {
   "cell_type": "code",
   "execution_count": 104,
   "id": "d496a58a-b53d-49e5-821d-6ead36457f3f",
   "metadata": {},
   "outputs": [
    {
     "data": {
      "text/plain": [
       "[['province', 'city', 'patient_id', 'sex', 'age'],\n",
       " ['Busan', 'Dongnae-gu', '1100000001', 'male', '10s'],\n",
       " ['Busan', 'Haeundae-gu', '1100000002', 'female', '50s'],\n",
       " ['Busan', 'Haeundae-gu', '1100000003', 'female', '20s'],\n",
       " ['Busan', 'Haeundae-gu', '1100000004', 'female', '20s'],\n",
       " ['Busan', 'Haeundae-gu', '1100000005', 'female', '20s']]"
      ]
     },
     "execution_count": 104,
     "metadata": {},
     "output_type": "execute_result"
    }
   ],
   "source": [
    "data2[:6]"
   ]
  },
  {
   "cell_type": "code",
   "execution_count": 119,
   "id": "5b611cd0-1c1b-48b9-abfa-0cad3dbb49cc",
   "metadata": {},
   "outputs": [],
   "source": [
    "region_data_dict = dict()\n",
    "city_data_dict = dict()\n",
    "for line in data2[1:]:\n",
    "    region_data_dict[line[0]] = region_data_dict.get(line[0], 0) + 1\n",
    "    city = f\"{line[0]}_{line[1]}\" if line[1] != \"\" else line[0]\n",
    "    city_data_dict[city] = city_data_dict.get(city, 0) + 1"
   ]
  },
  {
   "cell_type": "code",
   "execution_count": 120,
   "id": "e6503031-d577-4ced-a0e7-aba52a230983",
   "metadata": {},
   "outputs": [
    {
     "data": {
      "text/plain": [
       "{'Busan': 151,\n",
       " 'Chungcheongbuk-do': 56,\n",
       " 'Chungcheongnam-do': 168,\n",
       " 'Daegu': 137,\n",
       " 'Daejeon': 119,\n",
       " 'Gangwon-do': 63,\n",
       " 'Gwangju': 44,\n",
       " 'Gyeonggi-do': 1208,\n",
       " 'Gyeongsangbuk-do': 1254,\n",
       " 'Gyeongsangnam-do': 133,\n",
       " 'Incheon': 343,\n",
       " 'Jeju-do': 19,\n",
       " 'Jeollabuk-do': 27,\n",
       " 'Jeollanam-do': 25,\n",
       " 'Sejong': 51,\n",
       " 'Seoul': 1312,\n",
       " 'Ulsan': 55}"
      ]
     },
     "execution_count": 120,
     "metadata": {},
     "output_type": "execute_result"
    }
   ],
   "source": [
    "region_data_dict"
   ]
  },
  {
   "cell_type": "code",
   "execution_count": 121,
   "id": "b0fced27-6fff-4b15-b44f-864f74fcaa19",
   "metadata": {},
   "outputs": [
    {
     "data": {
      "text/plain": [
       "{'Busan_Dongnae-gu': 39,\n",
       " 'Busan_Haeundae-gu': 22,\n",
       " 'Busan_Yeonje-gu': 4,\n",
       " 'Busan': 1,\n",
       " 'Busan_Buk-gu': 8,\n",
       " 'Busan_Nam-gu': 7,\n",
       " 'Busan_Seo-gu': 6,\n",
       " 'Busan_Geumjeong-gu': 7,\n",
       " 'Busan_Saha-gu': 11,\n",
       " 'Busan_Gangseo-gu': 5,\n",
       " 'Busan_Suyeong-gu': 11,\n",
       " 'Busan_Sasang-gu': 5,\n",
       " 'Busan_Busanjin-gu': 14,\n",
       " 'Busan_etc': 9,\n",
       " 'Busan_Gijang-gun': 1,\n",
       " 'Busan_Dong-gu': 1,\n",
       " 'Chungcheongbuk-do_Jeungpyeong-gun': 2,\n",
       " 'Chungcheongbuk-do_Cheongju-si': 20,\n",
       " 'Chungcheongbuk-do_Eumseong-gun': 7,\n",
       " 'Chungcheongbuk-do_Chungju-si': 13,\n",
       " 'Chungcheongbuk-do_Goesan-gun': 11,\n",
       " 'Chungcheongbuk-do_Danyang-gun': 1,\n",
       " 'Chungcheongbuk-do_Jincheon-gun': 1,\n",
       " 'Chungcheongbuk-do_Okcheon-gun': 1,\n",
       " 'Chungcheongnam-do_Gyeryong-si': 3,\n",
       " 'Chungcheongnam-do_Cheonan-si': 110,\n",
       " 'Chungcheongnam-do_Asan-si': 18,\n",
       " 'Chungcheongnam-do_Seosan-si': 9,\n",
       " 'Chungcheongnam-do_Hongseong-gun': 4,\n",
       " 'Chungcheongnam-do_Taean-gun': 1,\n",
       " 'Chungcheongnam-do_Buyeo-gun': 13,\n",
       " 'Chungcheongnam-do_Seocheon-gun': 1,\n",
       " 'Chungcheongnam-do_Nonsan-si': 6,\n",
       " 'Chungcheongnam-do_Gongju-si': 3,\n",
       " 'Daegu': 42,\n",
       " 'Daegu_Jung-gu': 3,\n",
       " 'Daegu_Nam-gu': 11,\n",
       " 'Daegu_Dalseo-gu': 29,\n",
       " 'Daegu_Dalseong-gun': 1,\n",
       " 'Daegu_Seo-gu': 7,\n",
       " 'Daegu_Suseong-gu': 14,\n",
       " 'Daegu_Dong-gu': 10,\n",
       " 'Daegu_Buk-gu': 10,\n",
       " 'Daegu_Dalsung-gun': 6,\n",
       " 'Daegu_Kyeongsan-si': 1,\n",
       " 'Daegu_sankyeock-dong': 1,\n",
       " 'Daegu_Icheon-dong': 1,\n",
       " 'Daegu_Yeongcheon-si': 1,\n",
       " 'Daejeon_Dong-gu': 15,\n",
       " 'Daejeon_Yuseong-gu': 40,\n",
       " 'Daejeon_Daedeok-gu': 5,\n",
       " 'Daejeon_Seo-gu': 47,\n",
       " 'Daejeon_Jung-gu': 11,\n",
       " 'Daejeon_Sejong': 1,\n",
       " 'Gangwon-do_Gangneung-si': 9,\n",
       " 'Gangwon-do_Samcheok-si': 1,\n",
       " 'Gangwon-do_Sokcho-si': 3,\n",
       " 'Gangwon-do_Wonju-si': 25,\n",
       " 'Gangwon-do_Chuncheon-si': 10,\n",
       " 'Gangwon-do_Taebaek-si': 1,\n",
       " 'Gangwon-do_Inje-gun': 1,\n",
       " 'Gangwon-do_Hoengseong-gun': 1,\n",
       " 'Gangwon-do_Yeongwol-gun': 1,\n",
       " 'Gangwon-do_Cheorwon-gun': 11,\n",
       " 'Gwangju': 44,\n",
       " 'Gyeonggi-do_Suwon-si': 100,\n",
       " 'Gyeonggi-do_Goyang-si': 53,\n",
       " 'Gyeonggi-do_Pyeongtaek-si': 61,\n",
       " 'Gyeonggi-do_Bucheon-si': 162,\n",
       " 'Gyeonggi-do_Guri-si': 11,\n",
       " 'Gyeonggi-do_Siheung-si': 27,\n",
       " 'Gyeonggi-do_Gimpo-si': 37,\n",
       " 'Gyeonggi-do_Icheon-si': 15,\n",
       " 'Gyeonggi-do_Pocheon-si': 19,\n",
       " 'Gyeonggi-do_Anyang-si': 63,\n",
       " 'Gyeonggi-do_Yongin-si': 104,\n",
       " 'Gyeonggi-do_Paju-si': 16,\n",
       " 'Gyeonggi-do_Namyangju-si': 47,\n",
       " 'Gyeonggi-do_Seongnam-si': 173,\n",
       " 'Gyeonggi-do_Gwacheon-si': 9,\n",
       " 'Gyeonggi-do_Gwangmyeong-si': 28,\n",
       " 'Gyeonggi-do_Hwaseong-si': 41,\n",
       " 'Gyeonggi-do_Osan-si': 8,\n",
       " 'Gyeonggi-do_Gunpo-si': 75,\n",
       " 'Gyeonggi-do_Uiwang-si': 10,\n",
       " 'Gyeonggi-do_Ansan-si': 33,\n",
       " 'Gyeonggi-do_Gwangju-si': 35,\n",
       " 'Gyeonggi-do_Anseong-si': 4,\n",
       " 'Gyeonggi-do_Uijeongbu-si': 47,\n",
       " 'Gyeonggi-do_Hanam-si': 12,\n",
       " 'Gyeonggi-do_Dongducheon-si': 5,\n",
       " 'Gyeonggi-do_Yangju-si': 9,\n",
       " 'Gyeonggi-do_Gapyeong-gun': 1,\n",
       " 'Gyeonggi-do_Yangpyeong-si': 1,\n",
       " 'Gyeonggi-do_Suwon': 1,\n",
       " 'Gyeonggi-do_Guri': 1,\n",
       " 'Gyeongsangbuk-do_Gyeongsan-si': 638,\n",
       " 'Gyeongsangbuk-do_Gyeongju-si': 52,\n",
       " 'Gyeongsangbuk-do_Goryeong-gun': 10,\n",
       " 'Gyeongsangbuk-do_Gumi-si': 78,\n",
       " 'Gyeongsangbuk-do_Gunwi-gun': 6,\n",
       " 'Gyeongsangbuk-do_Gimcheon-si': 24,\n",
       " 'Gyeongsangbuk-do_Mungyeong-si': 4,\n",
       " 'Gyeongsangbuk-do_Bonghwa-gun': 71,\n",
       " 'Gyeongsangbuk-do_Sangju-si': 15,\n",
       " 'Gyeongsangbuk-do_Seongju-gun': 23,\n",
       " 'Gyeongsangbuk-do_Andong-si': 53,\n",
       " 'Gyeongsangbuk-do_Yeongdeok-gun': 2,\n",
       " 'Gyeongsangbuk-do_Yeongyang-gun': 2,\n",
       " 'Gyeongsangbuk-do_Yeongju-si': 5,\n",
       " 'Gyeongsangbuk-do_Yeongcheon-si': 37,\n",
       " 'Gyeongsangbuk-do_Yecheon-gun': 44,\n",
       " 'Gyeongsangbuk-do_Uiseong-gun': 41,\n",
       " 'Gyeongsangbuk-do_Cheongdo-gun': 43,\n",
       " 'Gyeongsangbuk-do_Cheongsong-gun': 2,\n",
       " 'Gyeongsangbuk-do_Chilgok-gun': 51,\n",
       " 'Gyeongsangbuk-do_Pohang-si': 53,\n",
       " 'Gyeongsangnam-do_Hapcheon-gun': 10,\n",
       " 'Gyeongsangnam-do_Jinju-si': 12,\n",
       " 'Gyeongsangnam-do_Changwon-si': 31,\n",
       " 'Gyeongsangnam-do_Yangsan-si': 8,\n",
       " 'Gyeongsangnam-do_Geoje-si': 13,\n",
       " 'Gyeongsangnam-do_Hamyang-gun': 1,\n",
       " 'Gyeongsangnam-do_Goseong-gun': 2,\n",
       " 'Gyeongsangnam-do_Gimhae-si': 14,\n",
       " 'Gyeongsangnam-do_Namhae-gun': 1,\n",
       " 'Gyeongsangnam-do': 3,\n",
       " 'Gyeongsangnam-do_Geochang-gun': 19,\n",
       " 'Gyeongsangnam-do_Changnyeong-gun': 9,\n",
       " 'Gyeongsangnam-do_Miryang-si': 5,\n",
       " 'Gyeongsangnam-do_Haman-gun': 1,\n",
       " 'Gyeongsangnam-do_Sancheong-gun': 1,\n",
       " 'Gyeongsangnam-do_Sacheon-si': 3,\n",
       " 'Incheon_etc': 1,\n",
       " 'Incheon_Bupyeong-gu': 83,\n",
       " 'Incheon_Michuhol-gu': 69,\n",
       " 'Incheon_Seo-gu': 18,\n",
       " 'Incheon_Yeonsu-gu': 45,\n",
       " 'Incheon_Gyeyang-gu': 55,\n",
       " 'Incheon_Namdong-gu': 45,\n",
       " 'Incheon': 4,\n",
       " 'Incheon_Dong-gu': 5,\n",
       " 'Incheon_Jung-gu': 17,\n",
       " 'Incheon_Ganghwa-gun': 1,\n",
       " 'Jeju-do_Jeju-do': 18,\n",
       " 'Jeju-do_etc': 1,\n",
       " 'Jeollabuk-do_Gunsan-si': 4,\n",
       " 'Jeollabuk-do_Gimje-si': 3,\n",
       " 'Jeollabuk-do_Jeonju-si': 8,\n",
       " 'Jeollabuk-do_etc': 9,\n",
       " 'Jeollabuk-do_Iksan-si': 2,\n",
       " 'Jeollabuk-do_Jangsu-gun': 1,\n",
       " 'Jeollanam-do_etc': 10,\n",
       " 'Jeollanam-do_Suncheon-si': 2,\n",
       " 'Jeollanam-do_Yeosu-si': 3,\n",
       " 'Jeollanam-do_Gwangyang-si': 1,\n",
       " 'Jeollanam-do_Hwasun-gun': 1,\n",
       " 'Jeollanam-do_Muan-gun': 2,\n",
       " 'Jeollanam-do_Mokpo-si': 5,\n",
       " 'Jeollanam-do_Gyeongsan-si': 1,\n",
       " 'Sejong_Sejong': 51,\n",
       " 'Seoul_Gangseo-gu': 78,\n",
       " 'Seoul_Jungnang-gu': 33,\n",
       " 'Seoul_Jongno-gu': 22,\n",
       " 'Seoul_Mapo-gu': 38,\n",
       " 'Seoul_Seongbuk-gu': 33,\n",
       " 'Seoul_etc': 80,\n",
       " 'Seoul_Songpa-gu': 55,\n",
       " 'Seoul_Seodaemun-gu': 36,\n",
       " 'Seoul_Seongdong-gu': 49,\n",
       " 'Seoul_Seocho-gu': 55,\n",
       " 'Seoul_Guro-gu': 85,\n",
       " 'Seoul_Gangdong-gu': 35,\n",
       " 'Seoul_Eunpyeong-gu': 53,\n",
       " 'Seoul_Geumcheon-gu': 32,\n",
       " 'Seoul_Gwanak-gu': 113,\n",
       " 'Seoul_Nowon-gu': 43,\n",
       " 'Seoul_Dongjak-gu': 53,\n",
       " 'Seoul_Gangnam-gu': 83,\n",
       " 'Seoul_Yangcheon-gu': 71,\n",
       " 'Seoul_Gwangjin-gu': 17,\n",
       " 'Seoul_Dongdaemun-gu': 38,\n",
       " 'Seoul_Yeongdeungpo-gu': 62,\n",
       " 'Seoul_Dobong-gu': 62,\n",
       " 'Seoul_Yongsan-gu': 50,\n",
       " 'Seoul_Gangbuk-gu': 24,\n",
       " 'Seoul_Jung-gu': 12,\n",
       " 'Ulsan_Ulju-gun': 6,\n",
       " 'Ulsan_Jung-gu': 12,\n",
       " 'Ulsan_Dong-gu': 9,\n",
       " 'Ulsan_Nam-gu': 18,\n",
       " 'Ulsan_Buk-gu': 10}"
      ]
     },
     "execution_count": 121,
     "metadata": {},
     "output_type": "execute_result"
    }
   ],
   "source": [
    "city_data_dict"
   ]
  },
  {
   "cell_type": "code",
   "execution_count": 122,
   "id": "7983614a-c2e2-4722-aab8-c5738f9b33d1",
   "metadata": {},
   "outputs": [],
   "source": [
    "region_data = make_dict_to_list(region_data_dict)"
   ]
  },
  {
   "cell_type": "code",
   "execution_count": 129,
   "id": "ee066e3c-b057-4ccc-9bda-be18dc504c56",
   "metadata": {},
   "outputs": [],
   "source": [
    "# add columns\n",
    "region_data.insert(0, [ \"country\", \"number of people\" ])"
   ]
  },
  {
   "cell_type": "code",
   "execution_count": 131,
   "id": "264e3f48-1e24-41ba-8c81-71e6f589b5a9",
   "metadata": {},
   "outputs": [
    {
     "data": {
      "text/plain": [
       "[['country', 'number of people'],\n",
       " ['Busan', 151],\n",
       " ['Chungcheongbuk-do', 56],\n",
       " ['Chungcheongnam-do', 168],\n",
       " ['Daegu', 137]]"
      ]
     },
     "execution_count": 131,
     "metadata": {},
     "output_type": "execute_result"
    }
   ],
   "source": [
    "region_data[:5]"
   ]
  },
  {
   "cell_type": "code",
   "execution_count": 124,
   "id": "997a07fa-5d21-41e5-93e0-ea1b28a68b58",
   "metadata": {},
   "outputs": [],
   "source": [
    "city_data = make_dict_to_list(city_data_dict)"
   ]
  },
  {
   "cell_type": "code",
   "execution_count": 130,
   "id": "a4983d20-d873-4f44-887b-e888d6b1c81d",
   "metadata": {},
   "outputs": [],
   "source": [
    "city_data.insert(0, [ \"city\", \"number of people\" ])"
   ]
  },
  {
   "cell_type": "code",
   "execution_count": 132,
   "id": "643cc90e-824c-4b75-b4d5-6a48e5bc116f",
   "metadata": {},
   "outputs": [
    {
     "data": {
      "text/plain": [
       "[['city', 'number of people'],\n",
       " ['Busan_Dongnae-gu', 39],\n",
       " ['Busan_Haeundae-gu', 22],\n",
       " ['Busan_Yeonje-gu', 4],\n",
       " ['Busan', 1]]"
      ]
     },
     "execution_count": 132,
     "metadata": {},
     "output_type": "execute_result"
    }
   ],
   "source": [
    "city_data[:5]"
   ]
  },
  {
   "cell_type": "code",
   "execution_count": 135,
   "id": "6032fa03-8e1b-43ca-8c5c-31e37997f294",
   "metadata": {},
   "outputs": [],
   "source": [
    "save_to_csv(\"region_data.csv\", region_data)"
   ]
  },
  {
   "cell_type": "code",
   "execution_count": 136,
   "id": "9d596088-001b-445c-993d-a115125f601f",
   "metadata": {},
   "outputs": [],
   "source": [
    "save_to_csv(\"city_data.csv\", city_data)"
   ]
  }
 ],
 "metadata": {
  "kernelspec": {
   "display_name": "Python 3 (ipykernel)",
   "language": "python",
   "name": "python3"
  },
  "language_info": {
   "codemirror_mode": {
    "name": "ipython",
    "version": 3
   },
   "file_extension": ".py",
   "mimetype": "text/x-python",
   "name": "python",
   "nbconvert_exporter": "python",
   "pygments_lexer": "ipython3",
   "version": "3.9.4"
  }
 },
 "nbformat": 4,
 "nbformat_minor": 5
}
